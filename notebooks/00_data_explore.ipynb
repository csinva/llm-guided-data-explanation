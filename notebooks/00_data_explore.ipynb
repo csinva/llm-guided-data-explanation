{
 "cells": [
  {
   "cell_type": "code",
   "execution_count": 33,
   "metadata": {},
   "outputs": [
    {
     "name": "stdout",
     "output_type": "stream",
     "text": [
      "The autoreload extension is already loaded. To reload it, use:\n",
      "  %reload_ext autoreload\n"
     ]
    }
   ],
   "source": [
    "%load_ext autoreload\n",
    "%autoreload 2\n",
    "import os\n",
    "import matplotlib.pyplot as plt\n",
    "import seaborn as sns\n",
    "from os.path import join\n",
    "from tqdm import tqdm\n",
    "import pandas as pd\n",
    "import joblib\n",
    "import sys\n",
    "import imodels\n",
    "import sklearn\n",
    "from sklearn.model_selection import train_test_split\n",
    "import numpy as np"
   ]
  },
  {
   "cell_type": "code",
   "execution_count": 19,
   "metadata": {},
   "outputs": [
    {
     "name": "stdout",
     "output_type": "stream",
     "text": [
      "fetching 40715 from openml\n",
      "shapes (768, 8) (768,) nunique 2\n"
     ]
    },
    {
     "name": "stderr",
     "output_type": "stream",
     "text": [
      "/home/chansingh/imodelsx/.venv/lib/python3.11/site-packages/sklearn/datasets/_openml.py:971: UserWarning: Version 1 of dataset pima is inactive, meaning that issues have been found in the dataset. Try using a newer version from this URL: https://api.openml.org/data/v1/download/4965316/pima.arff\n",
      "  warn(\n"
     ]
    },
    {
     "name": "stdout",
     "output_type": "stream",
     "text": [
      "best params {'est': LogisticRegression(C=0.1, l1_ratio=0.5, penalty='elasticnet', solver='saga'), 'est__C': 0.1, 'est__l1_ratio': 0.5}\n",
      "best score 0.8267026097959889\n",
      "best estimator Pipeline(steps=[('est',\n",
      "                 LogisticRegression(C=0.1, l1_ratio=0.5, penalty='elasticnet',\n",
      "                                    solver='saga'))])\n",
      "best estimator params {'memory': None, 'steps': [('est', LogisticRegression(C=0.1, l1_ratio=0.5, penalty='elasticnet', solver='saga'))], 'verbose': False, 'est': LogisticRegression(C=0.1, l1_ratio=0.5, penalty='elasticnet', solver='saga'), 'est__C': 0.1, 'est__class_weight': None, 'est__dual': False, 'est__fit_intercept': True, 'est__intercept_scaling': 1, 'est__l1_ratio': 0.5, 'est__max_iter': 100, 'est__multi_class': 'auto', 'est__n_jobs': None, 'est__penalty': 'elasticnet', 'est__random_state': None, 'est__solver': 'saga', 'est__tol': 0.0001, 'est__verbose': 0, 'est__warm_start': False}\n",
      "selected from [{'est': [DecisionTreeClassifier()], 'est__max_leaf_nodes': [2, 5, 10]}, {'est': [LogisticRegression(C=0.1, l1_ratio=0.5, penalty='elasticnet', solver='saga')], 'est__C': [0.1, 1, 10], 'est__l1_ratio': [0, 0.5, 1]}, {'est': [RuleFitClassifier()], 'est__max_rules': [10, 100], 'est__n_estimators': [20]}, {'est': [TreeGAMClassifier()], 'est__n_boosting_rounds': [10, 100]}, {'est': [HSTreeClassifier(estimator_=DecisionTreeClassifier(max_leaf_nodes=20), reg_param=1, shrinkage_scheme_='node_based')], 'est__max_leaf_nodes': [5, 10]}, {'est': [FIGSClassifier()], 'est__max_rules': [5, 10]}]\n"
     ]
    }
   ],
   "source": [
    "X, y, feature_names = imodels.get_clean_dataset(\"pima_diabetes\")\n",
    "\n",
    "print(\"shapes\", X.shape, y.shape, \"nunique\", np.unique(y).size)\n",
    "X_train, X_test, y_train, y_test = train_test_split(\n",
    "    X, y, random_state=42, test_size=0.2\n",
    ")\n",
    "\n",
    "trans = sklearn.preprocessing.StandardScaler()\n",
    "X_train = trans.fit_transform(X_train)\n",
    "X_test = trans.transform(X_test)\n",
    "\n",
    "m = imodels.AutoInterpretableClassifier()\n",
    "m.fit(X_train, y_train, cv=3)\n",
    "\n",
    "print(\"best params\", m.est_.best_params_)\n",
    "print(\"best score\", m.est_.best_score_)\n",
    "print(\"best estimator\", m.est_.best_estimator_)\n",
    "print(\"best estimator params\", m.est_.best_estimator_.get_params())\n",
    "print('selected from', m.param_grid)"
   ]
  },
  {
   "cell_type": "code",
   "execution_count": 45,
   "metadata": {},
   "outputs": [
    {
     "data": {
      "text/html": [
       "<style type=\"text/css\">\n",
       "#T_f997f_row0_col1 {\n",
       "  background-color: #412b26;\n",
       "  color: #f1f1f1;\n",
       "}\n",
       "#T_f997f_row1_col1 {\n",
       "  background-color: #2d2423;\n",
       "  color: #f1f1f1;\n",
       "}\n",
       "#T_f997f_row2_col1 {\n",
       "  background-color: #232425;\n",
       "  color: #f1f1f1;\n",
       "}\n",
       "#T_f997f_row3_col1 {\n",
       "  background-color: #273236;\n",
       "  color: #f1f1f1;\n",
       "}\n",
       "#T_f997f_row4_col1, #T_f997f_row5_col1 {\n",
       "  background-color: #2c434a;\n",
       "  color: #f1f1f1;\n",
       "}\n",
       "#T_f997f_row6_col1 {\n",
       "  background-color: #345d69;\n",
       "  color: #f1f1f1;\n",
       "}\n",
       "#T_f997f_row7_col1 {\n",
       "  background-color: #3f7f93;\n",
       "  color: #f1f1f1;\n",
       "}\n",
       "</style>\n",
       "<table id=\"T_f997f\">\n",
       "  <thead>\n",
       "    <tr>\n",
       "      <th class=\"blank level0\" >&nbsp;</th>\n",
       "      <th id=\"T_f997f_level0_col0\" class=\"col_heading level0 col0\" >feature_names</th>\n",
       "      <th id=\"T_f997f_level0_col1\" class=\"col_heading level0 col1\" >coef</th>\n",
       "    </tr>\n",
       "  </thead>\n",
       "  <tbody>\n",
       "    <tr>\n",
       "      <th id=\"T_f997f_level0_row0\" class=\"row_heading level0 row0\" >2</th>\n",
       "      <td id=\"T_f997f_row0_col0\" class=\"data row0 col0\" >Diastolic_blood_pressure</td>\n",
       "      <td id=\"T_f997f_row0_col1\" class=\"data row0 col1\" >-0.134553</td>\n",
       "    </tr>\n",
       "    <tr>\n",
       "      <th id=\"T_f997f_level0_row1\" class=\"row_heading level0 row1\" >4</th>\n",
       "      <td id=\"T_f997f_row1_col0\" class=\"data row1 col0\" >X_2-Hour_serum_insulin</td>\n",
       "      <td id=\"T_f997f_row1_col1\" class=\"data row1 col1\" >-0.012109</td>\n",
       "    </tr>\n",
       "    <tr>\n",
       "      <th id=\"T_f997f_level0_row2\" class=\"row_heading level0 row2\" >3</th>\n",
       "      <td id=\"T_f997f_row2_col0\" class=\"data row2 col0\" >Triceps_skin_fold_thickness</td>\n",
       "      <td id=\"T_f997f_row2_col1\" class=\"data row2 col1\" >0.000000</td>\n",
       "    </tr>\n",
       "    <tr>\n",
       "      <th id=\"T_f997f_level0_row3\" class=\"row_heading level0 row3\" >7</th>\n",
       "      <td id=\"T_f997f_row3_col0\" class=\"data row3 col0\" >Age</td>\n",
       "      <td id=\"T_f997f_row3_col1\" class=\"data row3 col1\" >0.134589</td>\n",
       "    </tr>\n",
       "    <tr>\n",
       "      <th id=\"T_f997f_level0_row4\" class=\"row_heading level0 row4\" >0</th>\n",
       "      <td id=\"T_f997f_row4_col0\" class=\"data row4 col0\" >Pregnant</td>\n",
       "      <td id=\"T_f997f_row4_col1\" class=\"data row4 col1\" >0.294840</td>\n",
       "    </tr>\n",
       "    <tr>\n",
       "      <th id=\"T_f997f_level0_row5\" class=\"row_heading level0 row5\" >6</th>\n",
       "      <td id=\"T_f997f_row5_col0\" class=\"data row5 col0\" >Diabetes_pedigree_function</td>\n",
       "      <td id=\"T_f997f_row5_col1\" class=\"data row5 col1\" >0.298696</td>\n",
       "    </tr>\n",
       "    <tr>\n",
       "      <th id=\"T_f997f_level0_row6\" class=\"row_heading level0 row6\" >5</th>\n",
       "      <td id=\"T_f997f_row6_col0\" class=\"data row6 col0\" >Body_mass_index</td>\n",
       "      <td id=\"T_f997f_row6_col1\" class=\"data row6 col1\" >0.560735</td>\n",
       "    </tr>\n",
       "    <tr>\n",
       "      <th id=\"T_f997f_level0_row7\" class=\"row_heading level0 row7\" >1</th>\n",
       "      <td id=\"T_f997f_row7_col0\" class=\"data row7 col0\" >plasma_glucose</td>\n",
       "      <td id=\"T_f997f_row7_col1\" class=\"data row7 col1\" >0.913872</td>\n",
       "    </tr>\n",
       "  </tbody>\n",
       "</table>\n"
      ],
      "text/plain": [
       "<pandas.io.formats.style.Styler at 0x7f4ec91a5650>"
      ]
     },
     "execution_count": 45,
     "metadata": {},
     "output_type": "execute_result"
    }
   ],
   "source": [
    "d = pd.DataFrame.from_dict({\n",
    "    'feature_names': feature_names,\n",
    "    'coef': m.est_.best_estimator_[0].coef_[0]\n",
    "}).sort_values(by='coef')\n",
    "vabs = np.max(np.abs(d['coef']))\n",
    "d.style.background_gradient(cmap=sns.diverging_palette(20, 220, as_cmap=True, center='dark'), vmin=-vabs, vmax=vabs)"
   ]
  }
 ],
 "metadata": {
  "kernelspec": {
   "display_name": ".embgam",
   "language": "python",
   "name": "python3"
  },
  "language_info": {
   "codemirror_mode": {
    "name": "ipython",
    "version": 3
   },
   "file_extension": ".py",
   "mimetype": "text/x-python",
   "name": "python",
   "nbconvert_exporter": "python",
   "pygments_lexer": "ipython3",
   "version": "3.11.5"
  },
  "orig_nbformat": 4,
  "vscode": {
   "interpreter": {
    "hash": "559535f78d940c882783b39501b2581b5193373045707e5f8a51d046029cfd38"
   }
  }
 },
 "nbformat": 4,
 "nbformat_minor": 2
}
